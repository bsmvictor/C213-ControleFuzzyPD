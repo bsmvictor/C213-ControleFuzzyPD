{
 "cells": [
  {
   "cell_type": "code",
   "metadata": {},
   "source": [
    "import re\n",
    "import itertools\n",
    "import numpy as np\n",
    "import pandas as pd\n",
    "import skfuzzy as fuzz\n",
    "import skfuzzy.control as ctrl\n",
    "import matplotlib.pyplot as plt\n",
    "from tabulate import tabulate"
   ],
   "outputs": [],
   "execution_count": null
  },
  {
   "cell_type": "markdown",
   "metadata": {},
   "source": [
    "## Fuzzificação"
   ]
  },
  {
   "cell_type": "code",
   "metadata": {
    "ExecuteTime": {
     "end_time": "2024-11-29T18:04:28.992173Z",
     "start_time": "2024-11-29T18:04:28.991174Z"
    }
   },
   "source": [
    "# Definindo os universos para as variáveis de entrada e saída\n",
    "erro = ctrl.Antecedent(np.arange(0, 1000.1, 0.1), 'erro')\n",
    "delta_erro = ctrl.Antecedent(np.arange(-1000, 1000.5, 0.5), 'delta_erro')\n",
    "potencia_motor = ctrl.Consequent(np.arange(0, 1.01, 0.01), 'potencia_motor')\n",
    "\n",
    "\n",
    "# Definindo funções de pertinência para o erro\n",
    "erro['Z'] = fuzz.trimf(erro.universe, [0, 0, 5])\n",
    "erro['P'] = fuzz.trimf(erro.universe, [0, 15, 25])\n",
    "erro['M'] = fuzz.trimf(erro.universe, [15, 45, 75])\n",
    "erro['G'] = fuzz.trimf(erro.universe, [50, 125, 350])\n",
    "erro['MG'] = fuzz.trimf(erro.universe, [125, 770, 1000]) # muito longe + descendo muito, - contrario\n",
    "\n",
    "# Definindo funções de pertinência para delta_erro\n",
    "delta_erro['MN'] = fuzz.trapmf(delta_erro.universe, [-1000, -1000, -3, -1.5])\n",
    "delta_erro['N'] = fuzz.trimf(delta_erro.universe, [-3, -1.5, 0])\n",
    "delta_erro['Z'] = fuzz.trimf(delta_erro.universe, [-1.5, 0, 1.5])\n",
    "delta_erro['P'] = fuzz.trimf(delta_erro.universe, [0, 1.5, 3])\n",
    "delta_erro['MP'] = fuzz.trapmf(delta_erro.universe, [1.5, 3, 1000, 1000])\n",
    "\n",
    "\n",
    "# Definindo funções de pertinência para potencia_motor_direto e potencia_motor_reverso\n",
    "potencia_motor['MP'] = fuzz.trapmf(potencia_motor.universe, [0, 0, 0.03,0.18])\n",
    "potencia_motor['P'] = fuzz.trimf(potencia_motor.universe, [0.08, 0.18, 0.4])\n",
    "potencia_motor['M'] = fuzz.trimf(potencia_motor.universe, [0.25, 0.4, 0.55])\n",
    "potencia_motor['G'] = fuzz.trimf(potencia_motor.universe, [0.4, 0.62, 0.8])\n",
    "potencia_motor['MG'] = fuzz.trapmf(potencia_motor.universe, [0.62, 0.88, 1, 1])\n",
    "\n",
    "erro.view()\n",
    "plt.axline((0, 0.25), (1000, 0.25), color='black', linestyle='--')\n",
    "plt.xlim(0, 400)\n",
    "\n",
    "delta_erro.view()\n",
    "plt.axline((0, 0.4), (1000, 0.4), color='black', linestyle='--')\n",
    "plt.xlim(-250, 250)\n",
    "\n",
    "potencia_motor.view()\n",
    "plt.axline((0, 0.4), (1000, 0.4), color='black', linestyle='--')\n"
   ],
   "outputs": [],
   "execution_count": null
  },
  {
   "cell_type": "markdown",
   "metadata": {},
   "source": [
    "## Base de Regras"
   ]
  },
  {
   "cell_type": "code",
   "metadata": {},
   "source": [
    "# Criação das regras para o controle\n",
    "\n",
    "result_potencia = [\n",
    "    'MP', 'P' , 'M' , 'G' , 'MG' ,\n",
    "    'MP', 'P' , 'M' , 'M' , 'M' ,\n",
    "    'P' , 'P' , 'M' , 'M' , 'G' ,\n",
    "    'P' , 'M' , 'M' , 'G' , 'G' ,\n",
    "    'M' , 'M' , 'G' , 'G' , 'MG' ,\n",
    "]\n",
    "\n",
    "BaseRegras = [\n",
    "    ctrl.Rule(erro[Erro] & delta_erro[Delta_erro], potencia_motor[Potencia_motor])\n",
    "    for (Erro, Delta_erro), Potencia_motor in\n",
    "    zip(itertools.product(erro.terms.keys(), delta_erro.terms.keys()), result_potencia)\n",
    "]"
   ],
   "outputs": [],
   "execution_count": null
  },
  {
   "metadata": {},
   "cell_type": "code",
   "source": [
    "ciano = '\\033[96m'  # Define a cor azul-ciano\n",
    "\n",
    "tabela = []\n",
    "for Erro in erro.terms:\n",
    "  for Delta_erro in delta_erro.terms:\n",
    "    for regra in BaseRegras:\n",
    "      antecedente = str(regra).split('IF ')[1].split(' THEN')[0].replace('AND ', '')\n",
    "      consequente = str(regra).split('IF ')[1].split(' THEN')[1].split('AND ')[0]\n",
    "\n",
    "      classificacoes = re.findall(r'\\[(.*?)\\]', (antecedente + consequente))\n",
    "      if Erro == classificacoes[0] and Delta_erro == classificacoes[1]:\n",
    "        tabela.append([classificacoes[0], classificacoes[1], classificacoes[2]])\n",
    "        break\n",
    "\n",
    "df = pd.DataFrame(tabela, columns=[erro.label, delta_erro.label, potencia_motor.label])\n",
    "pivotTable = pd.DataFrame(df.pivot(index=delta_erro.label, columns=erro.label, values=potencia_motor.label).reindex(index=delta_erro.terms, columns=erro.terms))\n",
    "pivotTable.index.name = f'{ciano}{\"E\"}\\033[0m'\n",
    "print(tabulate(pivotTable, headers='keys', tablefmt='fancy_grid', stralign='center', showindex='always'))"
   ],
   "outputs": [],
   "execution_count": null
  },
  {
   "metadata": {
    "ExecuteTime": {
     "start_time": "2024-11-29T18:04:27.601010Z"
    }
   },
   "cell_type": "code",
   "source": [
    "setpoint = 1\n",
    "current_position = 1000\n",
    "time = 250\n",
    "dt = 1\n",
    "U_max = 4\n",
    "\n",
    "ErrorControl = ctrl.ControlSystemSimulation(ctrl.ControlSystem(BaseRegras))\n",
    "\n",
    "positions = [current_position]\n",
    "errors = [abs(setpoint - current_position)]\n",
    "\n",
    "for t in range (time + 1):\n",
    "    \n",
    "    if current_position < setpoint:\n",
    "        U_max = 6\n",
    "    else:\n",
    "        U_max = 4\n",
    "    \n",
    "    current_error = abs(setpoint - current_position)\n",
    "    errors.append(current_error)\n",
    "    \n",
    "    print(\"Erro atual: {}\".format(current_error))\n",
    "    \n",
    "    if current_error < 10:\n",
    "        FA = 0.984825\n",
    "    elif current_error < 25:\n",
    "        FA = 0.994\n",
    "    else:\n",
    "        FA = 0.996\n",
    "    \n",
    "    current_delta_error = (errors[-1] - errors[-2]) / dt\n",
    "    # print(\"Delta erro: {}\".format(current_delta_error))\n",
    "    \n",
    "    ErrorControl.input['erro'] = current_error\n",
    "    ErrorControl.input['delta_erro'] = current_delta_error\n",
    "    ErrorControl.compute()\n",
    "    \n",
    "    P_Motor = ErrorControl.output['potencia_motor']\n",
    "    # print(\"Potencia:   {}\".format(P_Motor))\n",
    "    \n",
    "    if current_error > 5:\n",
    "        P_H13 = P_Motor\n",
    "        P_H24 = P_Motor\n",
    "    else:\n",
    "        P_H13 = 0.353\n",
    "        P_H24 = 0.353\n",
    "        \n",
    "    # print(\"PH13:       {}\".format(P_H13))\n",
    "    # print(\"PH24:       {}\".format(P_H24))\n",
    "    \n",
    "    d_t = FA * current_position * 1.01398 + 0.5 * (U_max * P_H13 + U_max * P_H24)\n",
    "    \n",
    "    print(\"Current:    {}\".format(current_position))\n",
    "    \n",
    "    if current_position < setpoint:\n",
    "        current_position = d_t\n",
    "    else:\n",
    "        delta_movement = d_t - current_position\n",
    "        current_position = current_position - delta_movement\n",
    "    \n",
    "    print(\"Desloc:     {}\".format(d_t))\n",
    "    # print(\"Deltamv:    {}\".format(delta_movement))\n",
    "    print(\"Positio:    {}\".format(current_position))\n",
    "    print(\"----------------------\")\n",
    "    \n",
    "    positions.append(current_position)\n",
    "\n",
    "# Gráfico do deslocamento\n",
    "plt.plot(range(len(positions)), positions, label='Deslocamento (m)', color='blue')\n",
    "plt.axhline(setpoint, color='red', linestyle='--', label='Setpoint')\n",
    "plt.xlabel('Tempo (s)')\n",
    "plt.ylabel('Deslocamento (m)')\n",
    "plt.title('Deslocamento do Drone ao Longo do Tempo')\n",
    "plt.grid()\n",
    "plt.legend()\n",
    "plt.show()"
   ],
   "outputs": [],
   "execution_count": null
  },
  {
   "cell_type": "markdown",
   "metadata": {},
   "source": [
    "# Considerações com Base no Enunciado\n",
    "1.  Variação Máxima de Saída no Modo S-mode: O enunciado especifica uma velocidade máxima de descida (Umáx) de 4 m/s no S-mode. Essa velocidade máxima limita o quanto o drone pode descer por ciclo de tempo, o que representa o teto para a saída da potência.\n",
    "\n",
    "2. Erro e Delta de Erro: Vamos definir o erro como uma variável que pode ser apenas positiva, representando a diferença entre a altura atual do drone e o ponto de referência (setPoint). Isso permite que o controle ajuste a velocidade de descida sempre em direção ao ponto alvo.\n",
    "\n",
    "3. Controle Direto e Reverso em Pares de Motores: Os motores operam em pares e são ajustados por duas bases de regras, uma para o controle direto e outra para o controle reverso, que alternam a intensidade do ajuste para minimizar o erro.\n",
    "\n",
    "# Construindo a Função de Transferência\n",
    "Com essas definições, a função de transferência será usada para calcular a potência dos motores de forma proporcional ao erro e ao delta de erro, considerando a variação máxima de saída permitida no modo S-mode (4 m/s), adaptamos a função de transferência para ajustar a saída do controle fuzzy, sem precisar calcular um deslocamento acumulativo. Em vez disso, limitamos a resposta do controle à velocidade máxima permitida."
   ]
  }
 ],
 "metadata": {
  "kernelspec": {
   "display_name": "Python 3",
   "language": "python",
   "name": "python3"
  },
  "language_info": {
   "codemirror_mode": {
    "name": "ipython",
    "version": 3
   },
   "file_extension": ".py",
   "mimetype": "text/x-python",
   "name": "python",
   "nbconvert_exporter": "python",
   "pygments_lexer": "ipython3",
   "version": "3.11.9"
  }
 },
 "nbformat": 4,
 "nbformat_minor": 2
}
